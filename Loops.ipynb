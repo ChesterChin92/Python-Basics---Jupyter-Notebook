{
 "cells": [
  {
   "cell_type": "markdown",
   "metadata": {},
   "source": [
    "# Looping\n",
    "\n",
    "This is how you run code over and overs"
   ]
  },
  {
   "cell_type": "code",
   "execution_count": null,
   "metadata": {
    "collapsed": true
   },
   "outputs": [],
   "source": []
  },
  {
   "cell_type": "markdown",
   "metadata": {},
   "source": [
    "There is a few ways do a loop"
   ]
  },
  {
   "cell_type": "markdown",
   "metadata": {},
   "source": [
    "## `while` loop\n",
    "\n",
    "Run while condition is still true"
   ]
  },
  {
   "cell_type": "code",
   "execution_count": 1,
   "metadata": {
    "collapsed": false
   },
   "outputs": [
    {
     "name": "stdout",
     "output_type": "stream",
     "text": [
      "[1, 2, 3]\n",
      "[1, 2]\n",
      "[1]\n",
      "[]\n"
     ]
    }
   ],
   "source": [
    "import time\n",
    "l = [1,2,3,4] #Empty list is false in nature\n",
    "while l:\n",
    "    l.pop() #Take the last one out\n",
    "    print(l)\n",
    "    time.sleep(1) #1 second"
   ]
  },
  {
   "cell_type": "code",
   "execution_count": 2,
   "metadata": {
    "collapsed": false
   },
   "outputs": [
    {
     "name": "stdout",
     "output_type": "stream",
     "text": [
      "[13]\n",
      "[13, 65]\n",
      "[13, 65, 39]\n",
      "[13, 65, 39, 73]\n",
      "[13, 65, 39, 73, 22]\n",
      "[13, 65, 39, 73, 22, 94]\n",
      "[13, 65, 39, 73, 22, 94, 60]\n",
      "[13, 65, 39, 73, 22, 94, 60, 76]\n",
      "[13, 65, 39, 73, 22, 94, 60, 76, 33]\n",
      "[13, 65, 39, 73, 22, 94, 60, 76, 33, 78]\n",
      "[13, 65, 39, 73, 22, 94, 60, 76, 33, 78, 41]\n"
     ]
    }
   ],
   "source": [
    "import time\n",
    "import random\n",
    "\n",
    "l=[]\n",
    "while len(l) <=10:\n",
    "    l.append(random.randint(0,99))\n",
    "    print(l)\n",
    "    time.sleep(1)"
   ]
  },
  {
   "cell_type": "markdown",
   "metadata": {},
   "source": [
    "## `for` loop\n",
    "\n",
    "This is to iterate through a set of data"
   ]
  },
  {
   "cell_type": "code",
   "execution_count": 21,
   "metadata": {
    "collapsed": false
   },
   "outputs": [
    {
     "name": "stdout",
     "output_type": "stream",
     "text": [
      "0\n",
      "1\n",
      "2\n",
      "3\n",
      "4\n",
      "5\n",
      "6\n",
      "7\n",
      "8\n",
      "9\n",
      "------List-------------\n",
      "5\n",
      "20\n",
      "1\n",
      "4\n",
      "--------Dictionary-----------\n",
      "a\n",
      "b\n",
      "--------Dictionary-----------\n",
      "Janice\n",
      "Jack\n",
      "Jane\n",
      "John\n"
     ]
    }
   ],
   "source": [
    "# C programming - for (i=0;i<9;i++){}\n",
    "\n",
    "\n",
    "for i in range(10):\n",
    "    print(i) \n",
    "    \n",
    "print (\"------List-------------\")\n",
    "    \n",
    "for i in [5,20,1,4]:\n",
    "    print (i)\n",
    "    \n",
    "print (\"--------Dictionary-----------\")\n",
    "    \n",
    "for i in {\"a\":1,\"b\":2}:\n",
    "    print (i)\n",
    "    \n",
    "print (\"--------Set-----------\")\n",
    "    \n",
    "for i in set(['John', 'Jane', 'Jack', 'Janice']):\n",
    "    print (i)"
   ]
  },
  {
   "cell_type": "markdown",
   "metadata": {},
   "source": [
    "What if we want to do looping from a set of number. You use the range function"
   ]
  },
  {
   "cell_type": "code",
   "execution_count": null,
   "metadata": {
    "collapsed": true
   },
   "outputs": [],
   "source": []
  },
  {
   "cell_type": "markdown",
   "metadata": {},
   "source": [
    "## Escaping a loop\n",
    "This is where you use a `break`"
   ]
  },
  {
   "cell_type": "code",
   "execution_count": 8,
   "metadata": {
    "collapsed": false
   },
   "outputs": [
    {
     "name": "stdout",
     "output_type": "stream",
     "text": [
      "abc\n",
      "\n",
      "def\n",
      "\n",
      "123\n",
      "\n",
      "End of program\n"
     ]
    }
   ],
   "source": [
    "import time\n",
    "\n",
    "f = open(\"simplefile.txt\")\n",
    "\n",
    "while True:\n",
    "    i = f.readline()\n",
    "    print (i)\n",
    "    if i == \"123\\n\":\n",
    "        print (\"End of program\")\n",
    "        break\n",
    "    time.sleep(1.5)\n",
    "    \n",
    "    "
   ]
  },
  {
   "cell_type": "markdown",
   "metadata": {},
   "source": [
    "More often than not a break is used with a `if` statement. "
   ]
  },
  {
   "cell_type": "code",
   "execution_count": 19,
   "metadata": {
    "collapsed": false
   },
   "outputs": [
    {
     "name": "stdout",
     "output_type": "stream",
     "text": [
      "1\n",
      "2\n",
      "3\n",
      "a\n",
      "b\n",
      "c\n"
     ]
    }
   ],
   "source": [
    "d = {\"a\":1,\"b\":2,\"c\":3}\n",
    "for i in d:\n",
    "    print(d[i])\n",
    "    \n",
    "    \n",
    "for i in d: # Normally Dictionary Listing \n",
    "    print(i)"
   ]
  },
  {
   "cell_type": "code",
   "execution_count": 20,
   "metadata": {
    "collapsed": false
   },
   "outputs": [
    {
     "name": "stdout",
     "output_type": "stream",
     "text": [
      "1\n",
      "2\n",
      "3\n",
      "4\n",
      "5\n",
      "6\n",
      "7\n",
      "8\n"
     ]
    }
   ],
   "source": [
    "d = {\"a\":[1,2,3,4],\"b\":[5,6,7,8]}\n",
    "\n",
    "for i in d:\n",
    "    for j in d[i]:\n",
    "        print(j)"
   ]
  },
  {
   "cell_type": "markdown",
   "metadata": {},
   "source": [
    "## Skip a step with `continue`\n",
    "Again this is used with a `if` statement"
   ]
  },
  {
   "cell_type": "code",
   "execution_count": null,
   "metadata": {
    "collapsed": true
   },
   "outputs": [],
   "source": []
  }
 ],
 "metadata": {
  "kernelspec": {
   "display_name": "Python 3",
   "language": "python",
   "name": "python3"
  },
  "language_info": {
   "codemirror_mode": {
    "name": "ipython",
    "version": 3
   },
   "file_extension": ".py",
   "mimetype": "text/x-python",
   "name": "python",
   "nbconvert_exporter": "python",
   "pygments_lexer": "ipython3",
   "version": "3.6.0"
  }
 },
 "nbformat": 4,
 "nbformat_minor": 1
}
